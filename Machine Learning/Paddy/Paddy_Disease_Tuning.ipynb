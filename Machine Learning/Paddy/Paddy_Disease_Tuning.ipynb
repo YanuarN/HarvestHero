{
  "metadata": {
    "kernelspec": {
      "language": "python",
      "display_name": "Python 3",
      "name": "python3"
    },
    "language_info": {
      "name": "python",
      "version": "3.10.13",
      "mimetype": "text/x-python",
      "codemirror_mode": {
        "name": "ipython",
        "version": 3
      },
      "pygments_lexer": "ipython3",
      "nbconvert_exporter": "python",
      "file_extension": ".py"
    },
    "kaggle": {
      "accelerator": "gpu",
      "dataSources": [
        {
          "sourceId": 35325,
          "databundleVersionId": 3359805,
          "sourceType": "competition"
        }
      ],
      "dockerImageVersionId": 30733,
      "isInternetEnabled": true,
      "language": "python",
      "sourceType": "notebook",
      "isGpuEnabled": true
    },
    "colab": {
      "provenance": [],
      "include_colab_link": true
    }
  },
  "nbformat_minor": 0,
  "nbformat": 4,
  "cells": [
    {
      "cell_type": "markdown",
      "metadata": {
        "id": "view-in-github",
        "colab_type": "text"
      },
      "source": [
        "<a href=\"https://colab.research.google.com/github/YanuarN/HarvestHeroes/blob/Iqbal/Machine%20Learning/Paddy_Disease_Tuning.ipynb\" target=\"_parent\"><img src=\"https://colab.research.google.com/assets/colab-badge.svg\" alt=\"Open In Colab\"/></a>"
      ]
    },
    {
      "cell_type": "code",
      "source": [
        "!nvidia-smi -L"
      ],
      "metadata": {
        "_uuid": "8f2839f25d086af736a60e9eeb907d3b93b6e0e5",
        "_cell_guid": "b1076dfc-b9ad-4769-8c92-a6c4dae69d19",
        "execution": {
          "iopub.status.busy": "2024-06-10T04:15:31.881352Z",
          "iopub.execute_input": "2024-06-10T04:15:31.881641Z",
          "iopub.status.idle": "2024-06-10T04:15:32.838116Z",
          "shell.execute_reply.started": "2024-06-10T04:15:31.881614Z",
          "shell.execute_reply": "2024-06-10T04:15:32.837235Z"
        },
        "trusted": true,
        "id": "5i2p6IezjMQM",
        "outputId": "85d14a66-4b50-4669-a5e5-2f4b265ebaed"
      },
      "execution_count": null,
      "outputs": [
        {
          "name": "stdout",
          "text": "GPU 0: Tesla P100-PCIE-16GB (UUID: GPU-cc2d2d63-4436-2a56-e530-62b1d3d68b06)\n",
          "output_type": "stream"
        }
      ]
    },
    {
      "cell_type": "code",
      "source": [
        "import pandas as pd\n",
        "import numpy as np\n",
        "import tensorflow as tf\n",
        "import matplotlib.pyplot as plt"
      ],
      "metadata": {
        "execution": {
          "iopub.status.busy": "2024-06-10T04:15:49.485643Z",
          "iopub.execute_input": "2024-06-10T04:15:49.486052Z",
          "iopub.status.idle": "2024-06-10T04:16:01.151630Z",
          "shell.execute_reply.started": "2024-06-10T04:15:49.486018Z",
          "shell.execute_reply": "2024-06-10T04:16:01.150632Z"
        },
        "trusted": true,
        "id": "isMqikHVjMQO",
        "outputId": "faa27981-fc20-4e29-bfe0-84a21d00a313"
      },
      "execution_count": null,
      "outputs": [
        {
          "name": "stderr",
          "text": "2024-06-10 04:15:51.422042: E external/local_xla/xla/stream_executor/cuda/cuda_dnn.cc:9261] Unable to register cuDNN factory: Attempting to register factory for plugin cuDNN when one has already been registered\n2024-06-10 04:15:51.422164: E external/local_xla/xla/stream_executor/cuda/cuda_fft.cc:607] Unable to register cuFFT factory: Attempting to register factory for plugin cuFFT when one has already been registered\n2024-06-10 04:15:51.539716: E external/local_xla/xla/stream_executor/cuda/cuda_blas.cc:1515] Unable to register cuBLAS factory: Attempting to register factory for plugin cuBLAS when one has already been registered\n",
          "output_type": "stream"
        }
      ]
    },
    {
      "cell_type": "code",
      "source": [
        "TRAIN_CSV = \"/kaggle/input/paddy-disease-classification/train.csv\"\n",
        "train_df = pd.read_csv(TRAIN_CSV)\n",
        "train_df.head()"
      ],
      "metadata": {
        "execution": {
          "iopub.status.busy": "2024-06-10T04:16:08.677601Z",
          "iopub.execute_input": "2024-06-10T04:16:08.678872Z",
          "iopub.status.idle": "2024-06-10T04:16:08.722695Z",
          "shell.execute_reply.started": "2024-06-10T04:16:08.678826Z",
          "shell.execute_reply": "2024-06-10T04:16:08.721708Z"
        },
        "trusted": true,
        "id": "5p9CpI9UjMQP",
        "outputId": "93b09ac1-c2f3-46d5-ed7b-2131f0ad1921"
      },
      "execution_count": null,
      "outputs": [
        {
          "execution_count": 3,
          "output_type": "execute_result",
          "data": {
            "text/plain": "     image_id                  label variety  age\n0  100330.jpg  bacterial_leaf_blight   ADT45   45\n1  100365.jpg  bacterial_leaf_blight   ADT45   45\n2  100382.jpg  bacterial_leaf_blight   ADT45   45\n3  100632.jpg  bacterial_leaf_blight   ADT45   45\n4  101918.jpg  bacterial_leaf_blight   ADT45   45",
            "text/html": "<div>\n<style scoped>\n    .dataframe tbody tr th:only-of-type {\n        vertical-align: middle;\n    }\n\n    .dataframe tbody tr th {\n        vertical-align: top;\n    }\n\n    .dataframe thead th {\n        text-align: right;\n    }\n</style>\n<table border=\"1\" class=\"dataframe\">\n  <thead>\n    <tr style=\"text-align: right;\">\n      <th></th>\n      <th>image_id</th>\n      <th>label</th>\n      <th>variety</th>\n      <th>age</th>\n    </tr>\n  </thead>\n  <tbody>\n    <tr>\n      <th>0</th>\n      <td>100330.jpg</td>\n      <td>bacterial_leaf_blight</td>\n      <td>ADT45</td>\n      <td>45</td>\n    </tr>\n    <tr>\n      <th>1</th>\n      <td>100365.jpg</td>\n      <td>bacterial_leaf_blight</td>\n      <td>ADT45</td>\n      <td>45</td>\n    </tr>\n    <tr>\n      <th>2</th>\n      <td>100382.jpg</td>\n      <td>bacterial_leaf_blight</td>\n      <td>ADT45</td>\n      <td>45</td>\n    </tr>\n    <tr>\n      <th>3</th>\n      <td>100632.jpg</td>\n      <td>bacterial_leaf_blight</td>\n      <td>ADT45</td>\n      <td>45</td>\n    </tr>\n    <tr>\n      <th>4</th>\n      <td>101918.jpg</td>\n      <td>bacterial_leaf_blight</td>\n      <td>ADT45</td>\n      <td>45</td>\n    </tr>\n  </tbody>\n</table>\n</div>"
          },
          "metadata": {}
        }
      ]
    },
    {
      "cell_type": "code",
      "source": [
        "# Check distribution of labels in training data\n",
        "train_df.label.value_counts()"
      ],
      "metadata": {
        "execution": {
          "iopub.status.busy": "2024-06-10T04:16:17.053292Z",
          "iopub.execute_input": "2024-06-10T04:16:17.054005Z",
          "iopub.status.idle": "2024-06-10T04:16:17.069486Z",
          "shell.execute_reply.started": "2024-06-10T04:16:17.053972Z",
          "shell.execute_reply": "2024-06-10T04:16:17.068441Z"
        },
        "trusted": true,
        "id": "z45w4JF9jMQP",
        "outputId": "66645fb5-89e7-44fd-f3b2-a367727e1fc5"
      },
      "execution_count": null,
      "outputs": [
        {
          "execution_count": 4,
          "output_type": "execute_result",
          "data": {
            "text/plain": "label\nnormal                      1764\nblast                       1738\nhispa                       1594\ndead_heart                  1442\ntungro                      1088\nbrown_spot                   965\ndowny_mildew                 620\nbacterial_leaf_blight        479\nbacterial_leaf_streak        380\nbacterial_panicle_blight     337\nName: count, dtype: int64"
          },
          "metadata": {}
        }
      ]
    },
    {
      "cell_type": "code",
      "source": [
        "TRAINING_DIR = '/kaggle/input/paddy-disease-classification/train_images'\n",
        "\n",
        "# Data augmentation for training data\n",
        "train_datagen = tf.keras.preprocessing.image.ImageDataGenerator(\n",
        "    rescale=1./255,\n",
        "    rotation_range=20,\n",
        "    zoom_range=0.2,\n",
        "    horizontal_flip=True,\n",
        "    validation_split=0.1\n",
        ")\n",
        "\n",
        "# Data generator for the training data\n",
        "train_generator = train_datagen.flow_from_directory(\n",
        "    directory=TRAINING_DIR,\n",
        "    target_size=(224, 224),\n",
        "    batch_size=32,\n",
        "    class_mode='categorical',\n",
        "    shuffle=True,\n",
        "    subset='training'\n",
        ")\n",
        "\n",
        "# Get label class name\n",
        "train_label = train_generator.class_indices\n",
        "print(train_label)"
      ],
      "metadata": {
        "execution": {
          "iopub.status.busy": "2024-06-10T04:17:45.597060Z",
          "iopub.execute_input": "2024-06-10T04:17:45.597449Z",
          "iopub.status.idle": "2024-06-10T04:17:52.713751Z",
          "shell.execute_reply.started": "2024-06-10T04:17:45.597415Z",
          "shell.execute_reply": "2024-06-10T04:17:52.712815Z"
        },
        "trusted": true,
        "id": "r0mS3qRsjMQP",
        "outputId": "e00c4504-9c84-4834-86d1-37c8b35874ef"
      },
      "execution_count": null,
      "outputs": [
        {
          "name": "stdout",
          "text": "Found 9371 images belonging to 10 classes.\n{'bacterial_leaf_blight': 0, 'bacterial_leaf_streak': 1, 'bacterial_panicle_blight': 2, 'blast': 3, 'brown_spot': 4, 'dead_heart': 5, 'downy_mildew': 6, 'hispa': 7, 'normal': 8, 'tungro': 9}\n",
          "output_type": "stream"
        }
      ]
    },
    {
      "cell_type": "code",
      "source": [
        "# Data generator for the validation data\n",
        "validation_datagen = tf.keras.preprocessing.image.ImageDataGenerator(rescale=1./255, validation_split=0.1)\n",
        "val_generator = validation_datagen.flow_from_directory(\n",
        "    directory=TRAINING_DIR,\n",
        "    target_size=(224, 224),\n",
        "    batch_size=32,\n",
        "    class_mode='categorical',\n",
        "    shuffle=True,\n",
        "    subset='validation'\n",
        ")\n",
        "\n",
        "val_label = val_generator.class_indices\n",
        "print(val_label)"
      ],
      "metadata": {
        "execution": {
          "iopub.status.busy": "2024-06-10T04:17:57.369629Z",
          "iopub.execute_input": "2024-06-10T04:17:57.370322Z",
          "iopub.status.idle": "2024-06-10T04:17:58.529547Z",
          "shell.execute_reply.started": "2024-06-10T04:17:57.370289Z",
          "shell.execute_reply": "2024-06-10T04:17:58.528576Z"
        },
        "trusted": true,
        "id": "2OaJ2LmijMQQ",
        "outputId": "e80db5f9-c1e7-448a-8062-0a994cfdea91"
      },
      "execution_count": null,
      "outputs": [
        {
          "name": "stdout",
          "text": "Found 1036 images belonging to 10 classes.\n{'bacterial_leaf_blight': 0, 'bacterial_leaf_streak': 1, 'bacterial_panicle_blight': 2, 'blast': 3, 'brown_spot': 4, 'dead_heart': 5, 'downy_mildew': 6, 'hispa': 7, 'normal': 8, 'tungro': 9}\n",
          "output_type": "stream"
        }
      ]
    },
    {
      "cell_type": "code",
      "source": [
        "# Callback for our train model\n",
        "class myCallback(tf.keras.callbacks.Callback):\n",
        "    def on_epoch_end(self, epoch, logs=None):\n",
        "        if (logs.get(\"accuracy\") > 0.94) and (logs.get(\"val_accuracy\") > 0.94):\n",
        "            print(\"\\nMinimum accuracy reached, stop training\")\n",
        "            self.model.stop_training = True\n",
        "\n",
        "callback = myCallback()"
      ],
      "metadata": {
        "execution": {
          "iopub.status.busy": "2024-06-10T04:18:16.328540Z",
          "iopub.execute_input": "2024-06-10T04:18:16.329162Z",
          "iopub.status.idle": "2024-06-10T04:18:16.334901Z",
          "shell.execute_reply.started": "2024-06-10T04:18:16.329130Z",
          "shell.execute_reply": "2024-06-10T04:18:16.333797Z"
        },
        "trusted": true,
        "id": "mLYkdCWBjMQQ"
      },
      "execution_count": null,
      "outputs": []
    },
    {
      "cell_type": "code",
      "source": [
        "# Load the pre-trained EfficientNetB4 model without the top classification layer\n",
        "efficientnet_base = tf.keras.applications.EfficientNetB4(weights='imagenet', include_top=False, input_shape=(224, 224, 3))\n",
        "\n",
        "# Freeze the pre-trained base model layers\n",
        "efficientnet_base.trainable = False"
      ],
      "metadata": {
        "execution": {
          "iopub.status.busy": "2024-06-10T04:20:21.509441Z",
          "iopub.execute_input": "2024-06-10T04:20:21.509823Z",
          "iopub.status.idle": "2024-06-10T04:20:25.523573Z",
          "shell.execute_reply.started": "2024-06-10T04:20:21.509785Z",
          "shell.execute_reply": "2024-06-10T04:20:25.522788Z"
        },
        "trusted": true,
        "id": "9ECBi3LwjMQQ",
        "outputId": "edafcc02-176a-48b0-d0c3-63bb45484f7b"
      },
      "execution_count": null,
      "outputs": [
        {
          "name": "stdout",
          "text": "Downloading data from https://storage.googleapis.com/keras-applications/efficientnetb4_notop.h5\n\u001b[1m71686520/71686520\u001b[0m \u001b[32m━━━━━━━━━━━━━━━━━━━━\u001b[0m\u001b[37m\u001b[0m \u001b[1m0s\u001b[0m 0us/step\n",
          "output_type": "stream"
        }
      ]
    },
    {
      "cell_type": "code",
      "source": [
        "# Build the model\n",
        "model = tf.keras.models.Sequential()\n",
        "\n",
        "# Add the pre-trained Xception base\n",
        "model.add(efficientnet_base)\n",
        "\n",
        "# Add global average pooling layer to reduce spatial dimensions\n",
        "model.add(tf.keras.layers.AveragePooling2D((3,3)))\n",
        "\n",
        "# Flatten the feature maps\n",
        "model.add(tf.keras.layers.Flatten())\n",
        "\n",
        "# Add a dense layer with 120 units and ReLU activation function\n",
        "model.add(tf.keras.layers.Dense(220, activation='relu'))\n",
        "\n",
        "# Dropout Layer\n",
        "model.add(tf.keras.layers.Dropout(0.25))\n",
        "\n",
        "# Add the output layer with 1 unit and sigmoid activation function for binary classification\n",
        "model.add(tf.keras.layers.Dense(10, activation='softmax'))"
      ],
      "metadata": {
        "execution": {
          "iopub.status.busy": "2024-06-10T04:21:29.261967Z",
          "iopub.execute_input": "2024-06-10T04:21:29.262446Z",
          "iopub.status.idle": "2024-06-10T04:21:29.277769Z",
          "shell.execute_reply.started": "2024-06-10T04:21:29.262414Z",
          "shell.execute_reply": "2024-06-10T04:21:29.277004Z"
        },
        "trusted": true,
        "id": "wY2AgFJojMQQ"
      },
      "execution_count": null,
      "outputs": []
    },
    {
      "cell_type": "code",
      "source": [
        "model.summary()"
      ],
      "metadata": {
        "execution": {
          "iopub.status.busy": "2024-06-10T04:22:10.049927Z",
          "iopub.execute_input": "2024-06-10T04:22:10.050304Z",
          "iopub.status.idle": "2024-06-10T04:22:10.089110Z",
          "shell.execute_reply.started": "2024-06-10T04:22:10.050271Z",
          "shell.execute_reply": "2024-06-10T04:22:10.088252Z"
        },
        "trusted": true,
        "id": "JrrC9UDijMQR",
        "outputId": "bc4c72cb-fa27-4fe8-bbf5-d32c9181ba39"
      },
      "execution_count": null,
      "outputs": [
        {
          "output_type": "display_data",
          "data": {
            "text/plain": "\u001b[1mModel: \"sequential_2\"\u001b[0m\n",
            "text/html": "<pre style=\"white-space:pre;overflow-x:auto;line-height:normal;font-family:Menlo,'DejaVu Sans Mono',consolas,'Courier New',monospace\"><span style=\"font-weight: bold\">Model: \"sequential_2\"</span>\n</pre>\n"
          },
          "metadata": {}
        },
        {
          "output_type": "display_data",
          "data": {
            "text/plain": "┏━━━━━━━━━━━━━━━━━━━━━━━━━━━━━━━━━┳━━━━━━━━━━━━━━━━━━━━━━━━┳━━━━━━━━━━━━━━━┓\n┃\u001b[1m \u001b[0m\u001b[1mLayer (type)                   \u001b[0m\u001b[1m \u001b[0m┃\u001b[1m \u001b[0m\u001b[1mOutput Shape          \u001b[0m\u001b[1m \u001b[0m┃\u001b[1m \u001b[0m\u001b[1m      Param #\u001b[0m\u001b[1m \u001b[0m┃\n┡━━━━━━━━━━━━━━━━━━━━━━━━━━━━━━━━━╇━━━━━━━━━━━━━━━━━━━━━━━━╇━━━━━━━━━━━━━━━┩\n│ efficientnetb4 (\u001b[38;5;33mFunctional\u001b[0m)     │ ?                      │    \u001b[38;5;34m17,673,823\u001b[0m │\n├─────────────────────────────────┼────────────────────────┼───────────────┤\n│ average_pooling2d               │ ?                      │   \u001b[38;5;34m0\u001b[0m (unbuilt) │\n│ (\u001b[38;5;33mAveragePooling2D\u001b[0m)              │                        │               │\n├─────────────────────────────────┼────────────────────────┼───────────────┤\n│ flatten (\u001b[38;5;33mFlatten\u001b[0m)               │ ?                      │   \u001b[38;5;34m0\u001b[0m (unbuilt) │\n├─────────────────────────────────┼────────────────────────┼───────────────┤\n│ dense (\u001b[38;5;33mDense\u001b[0m)                   │ ?                      │   \u001b[38;5;34m0\u001b[0m (unbuilt) │\n├─────────────────────────────────┼────────────────────────┼───────────────┤\n│ dropout (\u001b[38;5;33mDropout\u001b[0m)               │ ?                      │   \u001b[38;5;34m0\u001b[0m (unbuilt) │\n├─────────────────────────────────┼────────────────────────┼───────────────┤\n│ dense_1 (\u001b[38;5;33mDense\u001b[0m)                 │ ?                      │   \u001b[38;5;34m0\u001b[0m (unbuilt) │\n└─────────────────────────────────┴────────────────────────┴───────────────┘\n",
            "text/html": "<pre style=\"white-space:pre;overflow-x:auto;line-height:normal;font-family:Menlo,'DejaVu Sans Mono',consolas,'Courier New',monospace\">┏━━━━━━━━━━━━━━━━━━━━━━━━━━━━━━━━━┳━━━━━━━━━━━━━━━━━━━━━━━━┳━━━━━━━━━━━━━━━┓\n┃<span style=\"font-weight: bold\"> Layer (type)                    </span>┃<span style=\"font-weight: bold\"> Output Shape           </span>┃<span style=\"font-weight: bold\">       Param # </span>┃\n┡━━━━━━━━━━━━━━━━━━━━━━━━━━━━━━━━━╇━━━━━━━━━━━━━━━━━━━━━━━━╇━━━━━━━━━━━━━━━┩\n│ efficientnetb4 (<span style=\"color: #0087ff; text-decoration-color: #0087ff\">Functional</span>)     │ ?                      │    <span style=\"color: #00af00; text-decoration-color: #00af00\">17,673,823</span> │\n├─────────────────────────────────┼────────────────────────┼───────────────┤\n│ average_pooling2d               │ ?                      │   <span style=\"color: #00af00; text-decoration-color: #00af00\">0</span> (unbuilt) │\n│ (<span style=\"color: #0087ff; text-decoration-color: #0087ff\">AveragePooling2D</span>)              │                        │               │\n├─────────────────────────────────┼────────────────────────┼───────────────┤\n│ flatten (<span style=\"color: #0087ff; text-decoration-color: #0087ff\">Flatten</span>)               │ ?                      │   <span style=\"color: #00af00; text-decoration-color: #00af00\">0</span> (unbuilt) │\n├─────────────────────────────────┼────────────────────────┼───────────────┤\n│ dense (<span style=\"color: #0087ff; text-decoration-color: #0087ff\">Dense</span>)                   │ ?                      │   <span style=\"color: #00af00; text-decoration-color: #00af00\">0</span> (unbuilt) │\n├─────────────────────────────────┼────────────────────────┼───────────────┤\n│ dropout (<span style=\"color: #0087ff; text-decoration-color: #0087ff\">Dropout</span>)               │ ?                      │   <span style=\"color: #00af00; text-decoration-color: #00af00\">0</span> (unbuilt) │\n├─────────────────────────────────┼────────────────────────┼───────────────┤\n│ dense_1 (<span style=\"color: #0087ff; text-decoration-color: #0087ff\">Dense</span>)                 │ ?                      │   <span style=\"color: #00af00; text-decoration-color: #00af00\">0</span> (unbuilt) │\n└─────────────────────────────────┴────────────────────────┴───────────────┘\n</pre>\n"
          },
          "metadata": {}
        },
        {
          "output_type": "display_data",
          "data": {
            "text/plain": "\u001b[1m Total params: \u001b[0m\u001b[38;5;34m17,673,823\u001b[0m (67.42 MB)\n",
            "text/html": "<pre style=\"white-space:pre;overflow-x:auto;line-height:normal;font-family:Menlo,'DejaVu Sans Mono',consolas,'Courier New',monospace\"><span style=\"font-weight: bold\"> Total params: </span><span style=\"color: #00af00; text-decoration-color: #00af00\">17,673,823</span> (67.42 MB)\n</pre>\n"
          },
          "metadata": {}
        },
        {
          "output_type": "display_data",
          "data": {
            "text/plain": "\u001b[1m Trainable params: \u001b[0m\u001b[38;5;34m0\u001b[0m (0.00 B)\n",
            "text/html": "<pre style=\"white-space:pre;overflow-x:auto;line-height:normal;font-family:Menlo,'DejaVu Sans Mono',consolas,'Courier New',monospace\"><span style=\"font-weight: bold\"> Trainable params: </span><span style=\"color: #00af00; text-decoration-color: #00af00\">0</span> (0.00 B)\n</pre>\n"
          },
          "metadata": {}
        },
        {
          "output_type": "display_data",
          "data": {
            "text/plain": "\u001b[1m Non-trainable params: \u001b[0m\u001b[38;5;34m17,673,823\u001b[0m (67.42 MB)\n",
            "text/html": "<pre style=\"white-space:pre;overflow-x:auto;line-height:normal;font-family:Menlo,'DejaVu Sans Mono',consolas,'Courier New',monospace\"><span style=\"font-weight: bold\"> Non-trainable params: </span><span style=\"color: #00af00; text-decoration-color: #00af00\">17,673,823</span> (67.42 MB)\n</pre>\n"
          },
          "metadata": {}
        }
      ]
    },
    {
      "cell_type": "code",
      "source": [
        "learning_rate = 0.0001\n",
        "model.compile(optimizer=tf.keras.optimizers.Adam(learning_rate=learning_rate),\n",
        " loss='categorical_crossentropy', metrics=['accuracy'])"
      ],
      "metadata": {
        "execution": {
          "iopub.status.busy": "2024-06-10T04:24:04.596374Z",
          "iopub.execute_input": "2024-06-10T04:24:04.596736Z",
          "iopub.status.idle": "2024-06-10T04:24:04.607070Z",
          "shell.execute_reply.started": "2024-06-10T04:24:04.596704Z",
          "shell.execute_reply": "2024-06-10T04:24:04.606157Z"
        },
        "trusted": true,
        "id": "ymfeNIzmjMQR"
      },
      "execution_count": null,
      "outputs": []
    },
    {
      "cell_type": "code",
      "source": [
        "history= model.fit(train_generator,\n",
        "          validation_data=val_generator,\n",
        "          epochs=100,\n",
        "          callbacks=[callback])"
      ],
      "metadata": {
        "execution": {
          "iopub.status.busy": "2024-06-10T04:24:07.106352Z",
          "iopub.execute_input": "2024-06-10T04:24:07.106714Z",
          "iopub.status.idle": "2024-06-10T04:24:34.357797Z",
          "shell.execute_reply.started": "2024-06-10T04:24:07.106683Z",
          "shell.execute_reply": "2024-06-10T04:24:34.356581Z"
        },
        "trusted": true,
        "id": "oQbiR4yRjMQR",
        "outputId": "4f9aefbb-fa1b-449b-8030-66e1b7ff3d88"
      },
      "execution_count": null,
      "outputs": [
        {
          "name": "stdout",
          "text": "Epoch 1/100\n",
          "output_type": "stream"
        },
        {
          "name": "stderr",
          "text": "/opt/conda/lib/python3.10/site-packages/keras/src/trainers/data_adapters/py_dataset_adapter.py:121: UserWarning: Your `PyDataset` class should call `super().__init__(**kwargs)` in its constructor. `**kwargs` can include `workers`, `use_multiprocessing`, `max_queue_size`. Do not pass these arguments to `fit()`, as they will be ignored.\n  self._warn_if_super_not_called()\n",
          "output_type": "stream"
        },
        {
          "traceback": [
            "\u001b[0;31m---------------------------------------------------------------------------\u001b[0m",
            "\u001b[0;31mFailedPreconditionError\u001b[0m                   Traceback (most recent call last)",
            "Cell \u001b[0;32mIn[20], line 1\u001b[0m\n\u001b[0;32m----> 1\u001b[0m history\u001b[38;5;241m=\u001b[39m \u001b[43mmodel\u001b[49m\u001b[38;5;241;43m.\u001b[39;49m\u001b[43mfit\u001b[49m\u001b[43m(\u001b[49m\u001b[43mtrain_generator\u001b[49m\u001b[43m,\u001b[49m\n\u001b[1;32m      2\u001b[0m \u001b[43m          \u001b[49m\u001b[43mvalidation_data\u001b[49m\u001b[38;5;241;43m=\u001b[39;49m\u001b[43mval_generator\u001b[49m\u001b[43m,\u001b[49m\n\u001b[1;32m      3\u001b[0m \u001b[43m          \u001b[49m\u001b[43mepochs\u001b[49m\u001b[38;5;241;43m=\u001b[39;49m\u001b[38;5;241;43m100\u001b[39;49m\u001b[43m,\u001b[49m\n\u001b[1;32m      4\u001b[0m \u001b[43m          \u001b[49m\u001b[43mcallbacks\u001b[49m\u001b[38;5;241;43m=\u001b[39;49m\u001b[43m[\u001b[49m\u001b[43mcallback\u001b[49m\u001b[43m]\u001b[49m\u001b[43m)\u001b[49m\n",
            "File \u001b[0;32m/opt/conda/lib/python3.10/site-packages/keras/src/utils/traceback_utils.py:122\u001b[0m, in \u001b[0;36mfilter_traceback.<locals>.error_handler\u001b[0;34m(*args, **kwargs)\u001b[0m\n\u001b[1;32m    119\u001b[0m     filtered_tb \u001b[38;5;241m=\u001b[39m _process_traceback_frames(e\u001b[38;5;241m.\u001b[39m__traceback__)\n\u001b[1;32m    120\u001b[0m     \u001b[38;5;66;03m# To get the full stack trace, call:\u001b[39;00m\n\u001b[1;32m    121\u001b[0m     \u001b[38;5;66;03m# `keras.config.disable_traceback_filtering()`\u001b[39;00m\n\u001b[0;32m--> 122\u001b[0m     \u001b[38;5;28;01mraise\u001b[39;00m e\u001b[38;5;241m.\u001b[39mwith_traceback(filtered_tb) \u001b[38;5;28;01mfrom\u001b[39;00m \u001b[38;5;28;01mNone\u001b[39;00m\n\u001b[1;32m    123\u001b[0m \u001b[38;5;28;01mfinally\u001b[39;00m:\n\u001b[1;32m    124\u001b[0m     \u001b[38;5;28;01mdel\u001b[39;00m filtered_tb\n",
            "File \u001b[0;32m/opt/conda/lib/python3.10/site-packages/tensorflow/python/eager/execute.py:53\u001b[0m, in \u001b[0;36mquick_execute\u001b[0;34m(op_name, num_outputs, inputs, attrs, ctx, name)\u001b[0m\n\u001b[1;32m     51\u001b[0m \u001b[38;5;28;01mtry\u001b[39;00m:\n\u001b[1;32m     52\u001b[0m   ctx\u001b[38;5;241m.\u001b[39mensure_initialized()\n\u001b[0;32m---> 53\u001b[0m   tensors \u001b[38;5;241m=\u001b[39m pywrap_tfe\u001b[38;5;241m.\u001b[39mTFE_Py_Execute(ctx\u001b[38;5;241m.\u001b[39m_handle, device_name, op_name,\n\u001b[1;32m     54\u001b[0m                                       inputs, attrs, num_outputs)\n\u001b[1;32m     55\u001b[0m \u001b[38;5;28;01mexcept\u001b[39;00m core\u001b[38;5;241m.\u001b[39m_NotOkStatusException \u001b[38;5;28;01mas\u001b[39;00m e:\n\u001b[1;32m     56\u001b[0m   \u001b[38;5;28;01mif\u001b[39;00m name \u001b[38;5;129;01mis\u001b[39;00m \u001b[38;5;129;01mnot\u001b[39;00m \u001b[38;5;28;01mNone\u001b[39;00m:\n",
            "\u001b[0;31mFailedPreconditionError\u001b[0m: Graph execution error:\n\nDetected at node sequential_2_1/dense_1_2/Add/ReadVariableOp defined at (most recent call last):\n<stack traces unavailable>\nRead variable failure sequential_2/dense_1_1/bias/645. It could mean the variable is uninitialized or the variable is on another device \n\t [[{{node sequential_2_1/dense_1_2/Add/ReadVariableOp}}]]\n\ttf2xla conversion failed while converting __inference_one_step_on_data_36136[]. Run with TF_DUMP_GRAPH_PREFIX=/path/to/dump/dir and --vmodule=xla_compiler=2 to obtain a dump of the compiled functions.\n\t [[StatefulPartitionedCall]] [Op:__inference_one_step_on_iterator_37449]"
          ],
          "ename": "FailedPreconditionError",
          "evalue": "Graph execution error:\n\nDetected at node sequential_2_1/dense_1_2/Add/ReadVariableOp defined at (most recent call last):\n<stack traces unavailable>\nRead variable failure sequential_2/dense_1_1/bias/645. It could mean the variable is uninitialized or the variable is on another device \n\t [[{{node sequential_2_1/dense_1_2/Add/ReadVariableOp}}]]\n\ttf2xla conversion failed while converting __inference_one_step_on_data_36136[]. Run with TF_DUMP_GRAPH_PREFIX=/path/to/dump/dir and --vmodule=xla_compiler=2 to obtain a dump of the compiled functions.\n\t [[StatefulPartitionedCall]] [Op:__inference_one_step_on_iterator_37449]",
          "output_type": "error"
        }
      ]
    },
    {
      "cell_type": "code",
      "source": [
        "AUTOTUNE = tf.data.AUTOTUNE\n",
        "\n",
        "train_generator = train_generator.cache().prefetch(buffer_size=AUTOTUNE)\n",
        "val_generator = val_generator.cache().prefetch(buffer_size=AUTOTUNE)"
      ],
      "metadata": {
        "execution": {
          "iopub.status.busy": "2024-06-10T04:28:46.676730Z",
          "iopub.execute_input": "2024-06-10T04:28:46.677093Z",
          "iopub.status.idle": "2024-06-10T04:28:46.713686Z",
          "shell.execute_reply.started": "2024-06-10T04:28:46.677060Z",
          "shell.execute_reply": "2024-06-10T04:28:46.712475Z"
        },
        "trusted": true,
        "id": "WyUqCzEgjMQR",
        "outputId": "172f6f43-da30-4a28-9a20-4d7ace4b19d1"
      },
      "execution_count": null,
      "outputs": [
        {
          "traceback": [
            "\u001b[0;31m---------------------------------------------------------------------------\u001b[0m",
            "\u001b[0;31mAttributeError\u001b[0m                            Traceback (most recent call last)",
            "Cell \u001b[0;32mIn[22], line 3\u001b[0m\n\u001b[1;32m      1\u001b[0m AUTOTUNE \u001b[38;5;241m=\u001b[39m tf\u001b[38;5;241m.\u001b[39mdata\u001b[38;5;241m.\u001b[39mAUTOTUNE\n\u001b[0;32m----> 3\u001b[0m train_generator \u001b[38;5;241m=\u001b[39m \u001b[43mtrain_generator\u001b[49m\u001b[38;5;241;43m.\u001b[39;49m\u001b[43mcache\u001b[49m()\u001b[38;5;241m.\u001b[39mprefetch(buffer_size\u001b[38;5;241m=\u001b[39mAUTOTUNE)\n\u001b[1;32m      4\u001b[0m val_generator \u001b[38;5;241m=\u001b[39m val_generator\u001b[38;5;241m.\u001b[39mcache()\u001b[38;5;241m.\u001b[39mprefetch(buffer_size\u001b[38;5;241m=\u001b[39mAUTOTUNE)\n",
            "\u001b[0;31mAttributeError\u001b[0m: 'DirectoryIterator' object has no attribute 'cache'"
          ],
          "ename": "AttributeError",
          "evalue": "'DirectoryIterator' object has no attribute 'cache'",
          "output_type": "error"
        }
      ]
    },
    {
      "cell_type": "code",
      "source": [
        "model=tf.keras.models.Sequential([\n",
        "        tf.keras.layers.Conv2D(16, (3,3), activation=\"relu\", input_shape=(224, 224, 3)),\n",
        "        tf.keras.layers.MaxPooling2D(2,2),\n",
        "        tf.keras.layers.Conv2D(32, (3,3), activation=\"relu\"),\n",
        "        tf.keras.layers.MaxPooling2D(2,2),\n",
        "        tf.keras.layers.Dropout(rate=0.2),\n",
        "        tf.keras.layers.Flatten(),\n",
        "        tf.keras.layers.Dense(512, activation=\"relu\"),\n",
        "        tf.keras.layers.Dense(10, activation='softmax')\n",
        "    ])\n",
        "\n",
        "model.compile(optimizer=\"adam\", loss=\"categorical_crossentropy\", metrics=[\"accuracy\"])\n",
        "model.fit(train_generator,\n",
        "          epochs=50,\n",
        "          validation_data=val_generator,\n",
        "          callbacks=callback)"
      ],
      "metadata": {
        "execution": {
          "iopub.status.busy": "2024-06-10T04:29:05.028811Z",
          "iopub.execute_input": "2024-06-10T04:29:05.029523Z",
          "iopub.status.idle": "2024-06-10T06:13:18.416334Z",
          "shell.execute_reply.started": "2024-06-10T04:29:05.029484Z",
          "shell.execute_reply": "2024-06-10T06:13:18.414483Z"
        },
        "trusted": true,
        "id": "EHYIJ1umjMQR",
        "outputId": "0a3d8f34-38d8-41a9-9b7e-085454261310"
      },
      "execution_count": null,
      "outputs": [
        {
          "name": "stdout",
          "text": "Epoch 1/50\n\u001b[1m292/293\u001b[0m \u001b[32m━━━━━━━━━━━━━━━━━━━\u001b[0m\u001b[37m━\u001b[0m \u001b[1m0s\u001b[0m 532ms/step - accuracy: 0.2513 - loss: 2.5036",
          "output_type": "stream"
        },
        {
          "name": "stderr",
          "text": "2024-06-10 04:32:00.605460: E external/local_xla/xla/service/gpu/buffer_comparator.cc:1137] Difference at 98573: 7.23958, expected 6.41177\n2024-06-10 04:32:00.605517: E external/local_xla/xla/service/gpu/buffer_comparator.cc:1137] Difference at 98575: 6.82729, expected 5.99948\n2024-06-10 04:32:00.605526: E external/local_xla/xla/service/gpu/buffer_comparator.cc:1137] Difference at 98576: 7.15024, expected 6.32244\n2024-06-10 04:32:00.605534: E external/local_xla/xla/service/gpu/buffer_comparator.cc:1137] Difference at 98577: 6.7427, expected 5.9149\n2024-06-10 04:32:00.605542: E external/local_xla/xla/service/gpu/buffer_comparator.cc:1137] Difference at 98579: 6.39704, expected 5.56924\n2024-06-10 04:32:00.605550: E external/local_xla/xla/service/gpu/buffer_comparator.cc:1137] Difference at 98580: 6.60919, expected 5.78139\n2024-06-10 04:32:00.605558: E external/local_xla/xla/service/gpu/buffer_comparator.cc:1137] Difference at 98581: 6.32347, expected 5.49567\n2024-06-10 04:32:00.605565: E external/local_xla/xla/service/gpu/buffer_comparator.cc:1137] Difference at 98595: 7.16147, expected 6.33366\n2024-06-10 04:32:00.605573: E external/local_xla/xla/service/gpu/buffer_comparator.cc:1137] Difference at 98596: 6.0247, expected 5.1969\n2024-06-10 04:32:00.605581: E external/local_xla/xla/service/gpu/buffer_comparator.cc:1137] Difference at 98598: 6.74794, expected 5.92014\n2024-06-10 04:32:00.609717: E external/local_xla/xla/service/gpu/conv_algorithm_picker.cc:705] Results mismatch between different convolution algorithms. This is likely a bug/unexpected loss of precision in cudnn.\n(f32[12,16,222,222]{3,2,1,0}, u8[0]{0}) custom-call(f32[12,3,224,224]{3,2,1,0}, f32[16,3,3,3]{3,2,1,0}, f32[16]{0}), window={size=3x3}, dim_labels=bf01_oi01->bf01, custom_call_target=\"__cudnn$convBiasActivationForward\", backend_config={\"conv_result_scale\":1,\"activation_mode\":\"kRelu\",\"side_input_scale\":0,\"leakyrelu_alpha\":0} for eng20{k2=2,k4=1,k5=1,k6=0,k7=0} vs eng15{k5=1,k6=0,k7=1,k10=1}\n2024-06-10 04:32:00.609747: E external/local_xla/xla/service/gpu/conv_algorithm_picker.cc:270] Device: Tesla P100-PCIE-16GB\n2024-06-10 04:32:00.609755: E external/local_xla/xla/service/gpu/conv_algorithm_picker.cc:271] Platform: Compute Capability 6.0\n2024-06-10 04:32:00.609763: E external/local_xla/xla/service/gpu/conv_algorithm_picker.cc:272] Driver: 12020 (535.129.3)\n2024-06-10 04:32:00.609769: E external/local_xla/xla/service/gpu/conv_algorithm_picker.cc:273] Runtime: <undefined>\n2024-06-10 04:32:00.609783: E external/local_xla/xla/service/gpu/conv_algorithm_picker.cc:280] cudnn version: 8.9.0\n2024-06-10 04:32:00.770276: E external/local_xla/xla/service/gpu/buffer_comparator.cc:1137] Difference at 98573: 7.23958, expected 6.41177\n2024-06-10 04:32:00.770333: E external/local_xla/xla/service/gpu/buffer_comparator.cc:1137] Difference at 98575: 6.82729, expected 5.99948\n2024-06-10 04:32:00.770348: E external/local_xla/xla/service/gpu/buffer_comparator.cc:1137] Difference at 98576: 7.15024, expected 6.32244\n2024-06-10 04:32:00.770356: E external/local_xla/xla/service/gpu/buffer_comparator.cc:1137] Difference at 98577: 6.7427, expected 5.9149\n2024-06-10 04:32:00.770363: E external/local_xla/xla/service/gpu/buffer_comparator.cc:1137] Difference at 98579: 6.39704, expected 5.56924\n2024-06-10 04:32:00.770371: E external/local_xla/xla/service/gpu/buffer_comparator.cc:1137] Difference at 98580: 6.60919, expected 5.78139\n2024-06-10 04:32:00.770379: E external/local_xla/xla/service/gpu/buffer_comparator.cc:1137] Difference at 98581: 6.32347, expected 5.49567\n2024-06-10 04:32:00.770386: E external/local_xla/xla/service/gpu/buffer_comparator.cc:1137] Difference at 98595: 7.16147, expected 6.33366\n2024-06-10 04:32:00.770394: E external/local_xla/xla/service/gpu/buffer_comparator.cc:1137] Difference at 98596: 6.0247, expected 5.1969\n2024-06-10 04:32:00.770402: E external/local_xla/xla/service/gpu/buffer_comparator.cc:1137] Difference at 98598: 6.74794, expected 5.92014\n2024-06-10 04:32:00.774522: E external/local_xla/xla/service/gpu/conv_algorithm_picker.cc:705] Results mismatch between different convolution algorithms. This is likely a bug/unexpected loss of precision in cudnn.\n(f32[12,16,222,222]{3,2,1,0}, u8[0]{0}) custom-call(f32[12,3,224,224]{3,2,1,0}, f32[16,3,3,3]{3,2,1,0}, f32[16]{0}), window={size=3x3}, dim_labels=bf01_oi01->bf01, custom_call_target=\"__cudnn$convBiasActivationForward\", backend_config={\"conv_result_scale\":1,\"activation_mode\":\"kRelu\",\"side_input_scale\":0,\"leakyrelu_alpha\":0} for eng20{k2=2,k4=1,k5=1,k6=0,k7=0} vs eng15{k5=1,k6=0,k7=1,k10=1}\n2024-06-10 04:32:00.774552: E external/local_xla/xla/service/gpu/conv_algorithm_picker.cc:270] Device: Tesla P100-PCIE-16GB\n2024-06-10 04:32:00.774560: E external/local_xla/xla/service/gpu/conv_algorithm_picker.cc:271] Platform: Compute Capability 6.0\n2024-06-10 04:32:00.774568: E external/local_xla/xla/service/gpu/conv_algorithm_picker.cc:272] Driver: 12020 (535.129.3)\n2024-06-10 04:32:00.774575: E external/local_xla/xla/service/gpu/conv_algorithm_picker.cc:273] Runtime: <undefined>\n2024-06-10 04:32:00.774590: E external/local_xla/xla/service/gpu/conv_algorithm_picker.cc:280] cudnn version: 8.9.0\n",
          "output_type": "stream"
        },
        {
          "name": "stdout",
          "text": "\u001b[1m293/293\u001b[0m \u001b[32m━━━━━━━━━━━━━━━━━━━━\u001b[0m\u001b[37m\u001b[0m \u001b[1m176s\u001b[0m 574ms/step - accuracy: 0.2519 - loss: 2.5001 - val_accuracy: 0.4363 - val_loss: 1.7321\nEpoch 2/50\n\u001b[1m293/293\u001b[0m \u001b[32m━━━━━━━━━━━━━━━━━━━━\u001b[0m\u001b[37m\u001b[0m \u001b[1m122s\u001b[0m 406ms/step - accuracy: 0.4575 - loss: 1.5980 - val_accuracy: 0.5270 - val_loss: 1.3727\nEpoch 3/50\n\u001b[1m293/293\u001b[0m \u001b[32m━━━━━━━━━━━━━━━━━━━━\u001b[0m\u001b[37m\u001b[0m \u001b[1m119s\u001b[0m 397ms/step - accuracy: 0.5407 - loss: 1.3303 - val_accuracy: 0.6129 - val_loss: 1.1838\nEpoch 4/50\n\u001b[1m293/293\u001b[0m \u001b[32m━━━━━━━━━━━━━━━━━━━━\u001b[0m\u001b[37m\u001b[0m \u001b[1m124s\u001b[0m 412ms/step - accuracy: 0.6152 - loss: 1.1363 - val_accuracy: 0.6641 - val_loss: 0.9895\nEpoch 5/50\n\u001b[1m293/293\u001b[0m \u001b[32m━━━━━━━━━━━━━━━━━━━━\u001b[0m\u001b[37m\u001b[0m \u001b[1m127s\u001b[0m 422ms/step - accuracy: 0.6699 - loss: 1.0016 - val_accuracy: 0.6786 - val_loss: 0.9687\nEpoch 6/50\n\u001b[1m293/293\u001b[0m \u001b[32m━━━━━━━━━━━━━━━━━━━━\u001b[0m\u001b[37m\u001b[0m \u001b[1m123s\u001b[0m 409ms/step - accuracy: 0.7156 - loss: 0.8452 - val_accuracy: 0.7133 - val_loss: 0.9452\nEpoch 7/50\n\u001b[1m293/293\u001b[0m \u001b[32m━━━━━━━━━━━━━━━━━━━━\u001b[0m\u001b[37m\u001b[0m \u001b[1m123s\u001b[0m 409ms/step - accuracy: 0.7524 - loss: 0.7367 - val_accuracy: 0.7481 - val_loss: 0.8313\nEpoch 8/50\n\u001b[1m293/293\u001b[0m \u001b[32m━━━━━━━━━━━━━━━━━━━━\u001b[0m\u001b[37m\u001b[0m \u001b[1m121s\u001b[0m 403ms/step - accuracy: 0.7836 - loss: 0.6515 - val_accuracy: 0.7114 - val_loss: 0.9356\nEpoch 9/50\n\u001b[1m293/293\u001b[0m \u001b[32m━━━━━━━━━━━━━━━━━━━━\u001b[0m\u001b[37m\u001b[0m \u001b[1m121s\u001b[0m 402ms/step - accuracy: 0.8143 - loss: 0.5838 - val_accuracy: 0.8050 - val_loss: 0.6409\nEpoch 10/50\n\u001b[1m293/293\u001b[0m \u001b[32m━━━━━━━━━━━━━━━━━━━━\u001b[0m\u001b[37m\u001b[0m \u001b[1m120s\u001b[0m 400ms/step - accuracy: 0.8245 - loss: 0.5427 - val_accuracy: 0.8369 - val_loss: 0.6324\nEpoch 11/50\n\u001b[1m293/293\u001b[0m \u001b[32m━━━━━━━━━━━━━━━━━━━━\u001b[0m\u001b[37m\u001b[0m \u001b[1m120s\u001b[0m 400ms/step - accuracy: 0.8435 - loss: 0.4871 - val_accuracy: 0.8330 - val_loss: 0.6356\nEpoch 12/50\n\u001b[1m293/293\u001b[0m \u001b[32m━━━━━━━━━━━━━━━━━━━━\u001b[0m\u001b[37m\u001b[0m \u001b[1m120s\u001b[0m 401ms/step - accuracy: 0.8530 - loss: 0.4405 - val_accuracy: 0.8243 - val_loss: 0.6706\nEpoch 13/50\n\u001b[1m293/293\u001b[0m \u001b[32m━━━━━━━━━━━━━━━━━━━━\u001b[0m\u001b[37m\u001b[0m \u001b[1m120s\u001b[0m 400ms/step - accuracy: 0.8764 - loss: 0.3832 - val_accuracy: 0.8475 - val_loss: 0.6181\nEpoch 14/50\n\u001b[1m293/293\u001b[0m \u001b[32m━━━━━━━━━━━━━━━━━━━━\u001b[0m\u001b[37m\u001b[0m \u001b[1m119s\u001b[0m 395ms/step - accuracy: 0.8695 - loss: 0.4084 - val_accuracy: 0.8494 - val_loss: 0.5971\nEpoch 15/50\n\u001b[1m293/293\u001b[0m \u001b[32m━━━━━━━━━━━━━━━━━━━━\u001b[0m\u001b[37m\u001b[0m \u001b[1m119s\u001b[0m 396ms/step - accuracy: 0.8816 - loss: 0.3652 - val_accuracy: 0.8571 - val_loss: 0.5675\nEpoch 16/50\n\u001b[1m293/293\u001b[0m \u001b[32m━━━━━━━━━━━━━━━━━━━━\u001b[0m\u001b[37m\u001b[0m \u001b[1m120s\u001b[0m 398ms/step - accuracy: 0.8951 - loss: 0.3316 - val_accuracy: 0.8378 - val_loss: 0.6886\nEpoch 17/50\n\u001b[1m293/293\u001b[0m \u001b[32m━━━━━━━━━━━━━━━━━━━━\u001b[0m\u001b[37m\u001b[0m \u001b[1m120s\u001b[0m 398ms/step - accuracy: 0.8993 - loss: 0.3105 - val_accuracy: 0.8311 - val_loss: 0.7314\nEpoch 18/50\n\u001b[1m293/293\u001b[0m \u001b[32m━━━━━━━━━━━━━━━━━━━━\u001b[0m\u001b[37m\u001b[0m \u001b[1m120s\u001b[0m 400ms/step - accuracy: 0.8959 - loss: 0.3106 - val_accuracy: 0.8687 - val_loss: 0.6124\nEpoch 19/50\n\u001b[1m293/293\u001b[0m \u001b[32m━━━━━━━━━━━━━━━━━━━━\u001b[0m\u001b[37m\u001b[0m \u001b[1m141s\u001b[0m 399ms/step - accuracy: 0.9201 - loss: 0.2355 - val_accuracy: 0.8803 - val_loss: 0.5501\nEpoch 23/50\n\u001b[1m293/293\u001b[0m \u001b[32m━━━━━━━━━━━━━━━━━━━━\u001b[0m\u001b[37m\u001b[0m \u001b[1m120s\u001b[0m 400ms/step - accuracy: 0.9213 - loss: 0.2365 - val_accuracy: 0.8523 - val_loss: 0.6473\nEpoch 24/50\n\u001b[1m293/293\u001b[0m \u001b[32m━━━━━━━━━━━━━━━━━━━━\u001b[0m\u001b[37m\u001b[0m \u001b[1m120s\u001b[0m 401ms/step - accuracy: 0.9217 - loss: 0.2323 - val_accuracy: 0.8649 - val_loss: 0.6084\nEpoch 25/50\n\u001b[1m293/293\u001b[0m \u001b[32m━━━━━━━━━━━━━━━━━━━━\u001b[0m\u001b[37m\u001b[0m \u001b[1m120s\u001b[0m 402ms/step - accuracy: 0.9246 - loss: 0.2327 - val_accuracy: 0.8764 - val_loss: 0.5592\nEpoch 26/50\n\u001b[1m293/293\u001b[0m \u001b[32m━━━━━━━━━━━━━━━━━━━━\u001b[0m\u001b[37m\u001b[0m \u001b[1m120s\u001b[0m 402ms/step - accuracy: 0.9193 - loss: 0.2470 - val_accuracy: 0.8620 - val_loss: 0.6344\nEpoch 27/50\n\u001b[1m293/293\u001b[0m \u001b[32m━━━━━━━━━━━━━━━━━━━━\u001b[0m\u001b[37m\u001b[0m \u001b[1m120s\u001b[0m 401ms/step - accuracy: 0.9355 - loss: 0.2041 - val_accuracy: 0.8658 - val_loss: 0.6101\nEpoch 28/50\n\u001b[1m293/293\u001b[0m \u001b[32m━━━━━━━━━━━━━━━━━━━━\u001b[0m\u001b[37m\u001b[0m \u001b[1m120s\u001b[0m 400ms/step - accuracy: 0.9384 - loss: 0.1836 - val_accuracy: 0.8562 - val_loss: 0.6831\nEpoch 29/50\n\u001b[1m293/293\u001b[0m \u001b[32m━━━━━━━━━━━━━━━━━━━━\u001b[0m\u001b[37m\u001b[0m \u001b[1m120s\u001b[0m 400ms/step - accuracy: 0.9361 - loss: 0.2131 - val_accuracy: 0.8967 - val_loss: 0.5142\nEpoch 30/50\n\u001b[1m293/293\u001b[0m \u001b[32m━━━━━━━━━━━━━━━━━━━━\u001b[0m\u001b[37m\u001b[0m \u001b[1m119s\u001b[0m 397ms/step - accuracy: 0.9368 - loss: 0.1846 - val_accuracy: 0.8909 - val_loss: 0.5255\nEpoch 31/50\n\u001b[1m293/293\u001b[0m \u001b[32m━━━━━━━━━━━━━━━━━━━━\u001b[0m\u001b[37m\u001b[0m \u001b[1m119s\u001b[0m 396ms/step - accuracy: 0.9415 - loss: 0.1744 - val_accuracy: 0.8832 - val_loss: 0.6277\nEpoch 32/50\n\u001b[1m293/293\u001b[0m \u001b[32m━━━━━━━━━━━━━━━━━━━━\u001b[0m\u001b[37m\u001b[0m \u001b[1m119s\u001b[0m 397ms/step - accuracy: 0.9486 - loss: 0.1712 - val_accuracy: 0.8803 - val_loss: 0.5911\nEpoch 33/50\n\u001b[1m293/293\u001b[0m \u001b[32m━━━━━━━━━━━━━━━━━━━━\u001b[0m\u001b[37m\u001b[0m \u001b[1m119s\u001b[0m 398ms/step - accuracy: 0.9406 - loss: 0.1728 - val_accuracy: 0.8745 - val_loss: 0.6249\nEpoch 34/50\n\u001b[1m293/293\u001b[0m \u001b[32m━━━━━━━━━━━━━━━━━━━━\u001b[0m\u001b[37m\u001b[0m \u001b[1m119s\u001b[0m 396ms/step - accuracy: 0.9449 - loss: 0.1650 - val_accuracy: 0.8629 - val_loss: 0.7016\nEpoch 35/50\n\u001b[1m293/293\u001b[0m \u001b[32m━━━━━━━━━━━━━━━━━━━━\u001b[0m\u001b[37m\u001b[0m \u001b[1m118s\u001b[0m 392ms/step - accuracy: 0.9526 - loss: 0.1441 - val_accuracy: 0.8687 - val_loss: 0.6692\nEpoch 36/50\n\u001b[1m293/293\u001b[0m \u001b[32m━━━━━━━━━━━━━━━━━━━━\u001b[0m\u001b[37m\u001b[0m \u001b[1m120s\u001b[0m 401ms/step - accuracy: 0.9544 - loss: 0.1438 - val_accuracy: 0.8793 - val_loss: 0.6449\nEpoch 37/50\n\u001b[1m293/293\u001b[0m \u001b[32m━━━━━━━━━━━━━━━━━━━━\u001b[0m\u001b[37m\u001b[0m \u001b[1m120s\u001b[0m 402ms/step - accuracy: 0.9487 - loss: 0.1495 - val_accuracy: 0.9025 - val_loss: 0.5154\nEpoch 38/50\n\u001b[1m293/293\u001b[0m \u001b[32m━━━━━━━━━━━━━━━━━━━━\u001b[0m\u001b[37m\u001b[0m \u001b[1m119s\u001b[0m 397ms/step - accuracy: 0.9448 - loss: 0.1783 - val_accuracy: 0.8890 - val_loss: 0.6520\nEpoch 39/50\n\u001b[1m293/293\u001b[0m \u001b[32m━━━━━━━━━━━━━━━━━━━━\u001b[0m\u001b[37m\u001b[0m \u001b[1m119s\u001b[0m 396ms/step - accuracy: 0.9536 - loss: 0.1387 - val_accuracy: 0.8919 - val_loss: 0.5804\nEpoch 40/50\n\u001b[1m293/293\u001b[0m \u001b[32m━━━━━━━━━━━━━━━━━━━━\u001b[0m\u001b[37m\u001b[0m \u001b[1m119s\u001b[0m 396ms/step - accuracy: 0.9520 - loss: 0.1450 - val_accuracy: 0.8793 - val_loss: 0.6169\nEpoch 41/50\n\u001b[1m293/293\u001b[0m \u001b[32m━━━━━━━━━━━━━━━━━━━━\u001b[0m\u001b[37m\u001b[0m \u001b[1m121s\u001b[0m 405ms/step - accuracy: 0.9494 - loss: 0.1559 - val_accuracy: 0.8958 - val_loss: 0.5549\nEpoch 42/50\n\u001b[1m293/293\u001b[0m \u001b[32m━━━━━━━━━━━━━━━━━━━━\u001b[0m\u001b[37m\u001b[0m \u001b[1m283s\u001b[0m 933ms/step - accuracy: 0.9458 - loss: 0.1635 - val_accuracy: 0.8764 - val_loss: 0.6146\nEpoch 43/50\n\u001b[1m293/293\u001b[0m \u001b[32m━━━━━━━━━━━━━━━━━━━━\u001b[0m\u001b[37m\u001b[0m \u001b[1m120s\u001b[0m 399ms/step - accuracy: 0.9572 - loss: 0.1397 - val_accuracy: 0.9064 - val_loss: 0.6271\nEpoch 44/50\n\u001b[1m293/293\u001b[0m \u001b[32m━━━━━━━━━━━━━━━━━━━━\u001b[0m\u001b[37m\u001b[0m \u001b[1m122s\u001b[0m 404ms/step - accuracy: 0.9581 - loss: 0.1456 - val_accuracy: 0.8986 - val_loss: 0.6234\nEpoch 45/50\n\u001b[1m293/293\u001b[0m \u001b[32m━━━━━━━━━━━━━━━━━━━━\u001b[0m\u001b[37m\u001b[0m \u001b[1m122s\u001b[0m 406ms/step - accuracy: 0.9579 - loss: 0.1366 - val_accuracy: 0.8687 - val_loss: 0.7335\nEpoch 46/50\n\u001b[1m293/293\u001b[0m \u001b[32m━━━━━━━━━━━━━━━━━━━━\u001b[0m\u001b[37m\u001b[0m \u001b[1m120s\u001b[0m 399ms/step - accuracy: 0.9581 - loss: 0.1281 - val_accuracy: 0.8755 - val_loss: 0.6924\nEpoch 47/50\n\u001b[1m293/293\u001b[0m \u001b[32m━━━━━━━━━━━━━━━━━━━━\u001b[0m\u001b[37m\u001b[0m \u001b[1m120s\u001b[0m 400ms/step - accuracy: 0.9513 - loss: 0.1413 - val_accuracy: 0.8842 - val_loss: 0.7599\nEpoch 48/50\n\u001b[1m293/293\u001b[0m \u001b[32m━━━━━━━━━━━━━━━━━━━━\u001b[0m\u001b[37m\u001b[0m \u001b[1m120s\u001b[0m 398ms/step - accuracy: 0.9610 - loss: 0.1213 - val_accuracy: 0.9180 - val_loss: 0.4100\nEpoch 49/50\n\u001b[1m293/293\u001b[0m \u001b[32m━━━━━━━━━━━━━━━━━━━━\u001b[0m\u001b[37m\u001b[0m \u001b[1m119s\u001b[0m 398ms/step - accuracy: 0.9550 - loss: 0.1470 - val_accuracy: 0.8552 - val_loss: 0.8427\nEpoch 50/50\n\u001b[1m293/293\u001b[0m \u001b[32m━━━━━━━━━━━━━━━━━━━━\u001b[0m\u001b[37m\u001b[0m \u001b[1m120s\u001b[0m 399ms/step - accuracy: 0.9665 - loss: 0.1105 - val_accuracy: 0.9102 - val_loss: 0.5756\n",
          "output_type": "stream"
        },
        {
          "execution_count": 24,
          "output_type": "execute_result",
          "data": {
            "text/plain": "<keras.src.callbacks.history.History at 0x7e0d44531030>"
          },
          "metadata": {}
        }
      ]
    },
    {
      "cell_type": "code",
      "source": [
        "# Save model to h5 format\n",
        "model.save(\"model_Padi_2.h5\")"
      ],
      "metadata": {
        "execution": {
          "iopub.status.busy": "2024-06-10T06:17:44.531031Z",
          "iopub.execute_input": "2024-06-10T06:17:44.531909Z",
          "iopub.status.idle": "2024-06-10T06:17:45.680126Z",
          "shell.execute_reply.started": "2024-06-10T06:17:44.531874Z",
          "shell.execute_reply": "2024-06-10T06:17:45.679006Z"
        },
        "trusted": true,
        "id": "L3h-V23cjMQS"
      },
      "execution_count": null,
      "outputs": []
    }
  ]
}